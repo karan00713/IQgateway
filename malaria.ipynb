{
 "cells": [
  {
   "cell_type": "code",
   "execution_count": 1,
   "id": "broadband-brazil",
   "metadata": {},
   "outputs": [],
   "source": [
    "from tensorflow.keras.layers import Input, Lambda, Dense, Flatten,Conv2D, MaxPooling2D\n",
    "from tensorflow.keras.models import Model\n",
    "from tensorflow.keras.applications.vgg19 import VGG19\n",
    "from tensorflow.keras.applications.resnet50 import preprocess_input\n",
    "from tensorflow.keras.preprocessing import image\n",
    "from tensorflow.keras.preprocessing.image import ImageDataGenerator,load_img\n",
    "from tensorflow.keras.models import Sequential\n",
    "import numpy as np\n",
    "from glob import glob\n",
    "import matplotlib.pyplot as plt"
   ]
  },
  {
   "cell_type": "code",
   "execution_count": 2,
   "id": "deadly-senior",
   "metadata": {},
   "outputs": [],
   "source": [
    "IMAGE_SIZE = [224, 224]\n",
    "train_path = 'C:/Users/KARAN K S/Downloads/Dataset/Train'\n",
    "valid_path = 'C:/Users/KARAN K S/Downloads/Dataset/Test'"
   ]
  },
  {
   "cell_type": "code",
   "execution_count": 3,
   "id": "thirty-principle",
   "metadata": {},
   "outputs": [],
   "source": [
    "vgg = VGG19(input_shape=IMAGE_SIZE + [3], weights='imagenet', include_top=False)"
   ]
  },
  {
   "cell_type": "code",
   "execution_count": 4,
   "id": "right-driver",
   "metadata": {},
   "outputs": [],
   "source": [
    "for layer in vgg.layers:\n",
    "    layer.trainable = False"
   ]
  },
  {
   "cell_type": "code",
   "execution_count": 5,
   "id": "cordless-assessment",
   "metadata": {},
   "outputs": [],
   "source": [
    "folders = glob('C:/Users/KARAN K S/Downloads/Dataset/Train/*')"
   ]
  },
  {
   "cell_type": "code",
   "execution_count": 6,
   "id": "matched-swedish",
   "metadata": {},
   "outputs": [],
   "source": [
    "x = Flatten()(vgg.output)"
   ]
  },
  {
   "cell_type": "code",
   "execution_count": 7,
   "id": "premium-chrome",
   "metadata": {},
   "outputs": [],
   "source": [
    "prediction = Dense(len(folders), activation='softmax')(x)\n",
    "model = Model(inputs=vgg.input, outputs=prediction)"
   ]
  },
  {
   "cell_type": "code",
   "execution_count": 8,
   "id": "democratic-disposition",
   "metadata": {},
   "outputs": [
    {
     "name": "stdout",
     "output_type": "stream",
     "text": [
      "Model: \"model\"\n",
      "_________________________________________________________________\n",
      "Layer (type)                 Output Shape              Param #   \n",
      "=================================================================\n",
      "input_1 (InputLayer)         [(None, 224, 224, 3)]     0         \n",
      "_________________________________________________________________\n",
      "block1_conv1 (Conv2D)        (None, 224, 224, 64)      1792      \n",
      "_________________________________________________________________\n",
      "block1_conv2 (Conv2D)        (None, 224, 224, 64)      36928     \n",
      "_________________________________________________________________\n",
      "block1_pool (MaxPooling2D)   (None, 112, 112, 64)      0         \n",
      "_________________________________________________________________\n",
      "block2_conv1 (Conv2D)        (None, 112, 112, 128)     73856     \n",
      "_________________________________________________________________\n",
      "block2_conv2 (Conv2D)        (None, 112, 112, 128)     147584    \n",
      "_________________________________________________________________\n",
      "block2_pool (MaxPooling2D)   (None, 56, 56, 128)       0         \n",
      "_________________________________________________________________\n",
      "block3_conv1 (Conv2D)        (None, 56, 56, 256)       295168    \n",
      "_________________________________________________________________\n",
      "block3_conv2 (Conv2D)        (None, 56, 56, 256)       590080    \n",
      "_________________________________________________________________\n",
      "block3_conv3 (Conv2D)        (None, 56, 56, 256)       590080    \n",
      "_________________________________________________________________\n",
      "block3_conv4 (Conv2D)        (None, 56, 56, 256)       590080    \n",
      "_________________________________________________________________\n",
      "block3_pool (MaxPooling2D)   (None, 28, 28, 256)       0         \n",
      "_________________________________________________________________\n",
      "block4_conv1 (Conv2D)        (None, 28, 28, 512)       1180160   \n",
      "_________________________________________________________________\n",
      "block4_conv2 (Conv2D)        (None, 28, 28, 512)       2359808   \n",
      "_________________________________________________________________\n",
      "block4_conv3 (Conv2D)        (None, 28, 28, 512)       2359808   \n",
      "_________________________________________________________________\n",
      "block4_conv4 (Conv2D)        (None, 28, 28, 512)       2359808   \n",
      "_________________________________________________________________\n",
      "block4_pool (MaxPooling2D)   (None, 14, 14, 512)       0         \n",
      "_________________________________________________________________\n",
      "block5_conv1 (Conv2D)        (None, 14, 14, 512)       2359808   \n",
      "_________________________________________________________________\n",
      "block5_conv2 (Conv2D)        (None, 14, 14, 512)       2359808   \n",
      "_________________________________________________________________\n",
      "block5_conv3 (Conv2D)        (None, 14, 14, 512)       2359808   \n",
      "_________________________________________________________________\n",
      "block5_conv4 (Conv2D)        (None, 14, 14, 512)       2359808   \n",
      "_________________________________________________________________\n",
      "block5_pool (MaxPooling2D)   (None, 7, 7, 512)         0         \n",
      "_________________________________________________________________\n",
      "flatten (Flatten)            (None, 25088)             0         \n",
      "_________________________________________________________________\n",
      "dense (Dense)                (None, 2)                 50178     \n",
      "=================================================================\n",
      "Total params: 20,074,562\n",
      "Trainable params: 50,178\n",
      "Non-trainable params: 20,024,384\n",
      "_________________________________________________________________\n"
     ]
    }
   ],
   "source": [
    "model.summary()"
   ]
  },
  {
   "cell_type": "code",
   "execution_count": 9,
   "id": "unlimited-register",
   "metadata": {},
   "outputs": [
    {
     "name": "stdout",
     "output_type": "stream",
     "text": [
      "Model: \"sequential\"\n",
      "_________________________________________________________________\n",
      "Layer (type)                 Output Shape              Param #   \n",
      "=================================================================\n",
      "conv2d (Conv2D)              (None, 224, 224, 16)      208       \n",
      "_________________________________________________________________\n",
      "max_pooling2d (MaxPooling2D) (None, 112, 112, 16)      0         \n",
      "_________________________________________________________________\n",
      "conv2d_1 (Conv2D)            (None, 112, 112, 32)      2080      \n",
      "_________________________________________________________________\n",
      "max_pooling2d_1 (MaxPooling2 (None, 56, 56, 32)        0         \n",
      "_________________________________________________________________\n",
      "conv2d_2 (Conv2D)            (None, 56, 56, 64)        8256      \n",
      "_________________________________________________________________\n",
      "max_pooling2d_2 (MaxPooling2 (None, 28, 28, 64)        0         \n",
      "_________________________________________________________________\n",
      "flatten_1 (Flatten)          (None, 50176)             0         \n",
      "_________________________________________________________________\n",
      "dense_1 (Dense)              (None, 500)               25088500  \n",
      "_________________________________________________________________\n",
      "dense_2 (Dense)              (None, 2)                 1002      \n",
      "=================================================================\n",
      "Total params: 25,100,046\n",
      "Trainable params: 25,100,046\n",
      "Non-trainable params: 0\n",
      "_________________________________________________________________\n"
     ]
    }
   ],
   "source": [
    "model=Sequential()\n",
    "model.add(Conv2D(filters=16,kernel_size=2,padding=\"same\",activation=\"relu\",input_shape=(224,224,3)))\n",
    "model.add(MaxPooling2D(pool_size=2))\n",
    "model.add(Conv2D(filters=32,kernel_size=2,padding=\"same\",activation =\"relu\"))\n",
    "model.add(MaxPooling2D(pool_size=2))\n",
    "model.add(Conv2D(filters=64,kernel_size=2,padding=\"same\",activation=\"relu\"))\n",
    "model.add(MaxPooling2D(pool_size=2))\n",
    "model.add(Flatten())\n",
    "model.add(Dense(500,activation=\"relu\"))\n",
    "model.add(Dense(2,activation=\"softmax\"))\n",
    "model.summary()"
   ]
  },
  {
   "cell_type": "code",
   "execution_count": 10,
   "id": "undefined-onion",
   "metadata": {},
   "outputs": [],
   "source": [
    "model.compile(loss='categorical_crossentropy',optimizer='adam',metrics=['accuracy'])"
   ]
  },
  {
   "cell_type": "code",
   "execution_count": 11,
   "id": "sorted-perfume",
   "metadata": {},
   "outputs": [],
   "source": [
    "train_datagen = ImageDataGenerator(rescale = 1./255,\n",
    "                                   shear_range = 0.2,\n",
    "                                   zoom_range = 0.2,\n",
    "                                   horizontal_flip = True)\n",
    "\n",
    "test_datagen = ImageDataGenerator(rescale = 1./255)"
   ]
  },
  {
   "cell_type": "code",
   "execution_count": 12,
   "id": "general-makeup",
   "metadata": {},
   "outputs": [
    {
     "name": "stdout",
     "output_type": "stream",
     "text": [
      "Found 416 images belonging to 2 classes.\n"
     ]
    }
   ],
   "source": [
    "training_set = train_datagen.flow_from_directory('C:/Users/KARAN K S/Downloads/Dataset/Train',\n",
    "                                                 target_size = (224, 224),\n",
    "                                                 batch_size = 32,\n",
    "                                                 class_mode = 'categorical')"
   ]
  },
  {
   "cell_type": "code",
   "execution_count": 13,
   "id": "vertical-traffic",
   "metadata": {},
   "outputs": [
    {
     "name": "stdout",
     "output_type": "stream",
     "text": [
      "Found 134 images belonging to 2 classes.\n"
     ]
    }
   ],
   "source": [
    "test_set = test_datagen.flow_from_directory('C:/Users/KARAN K S/Downloads/Dataset/Test',\n",
    "                                            target_size = (224, 224),\n",
    "                                            batch_size = 32,\n",
    "                                            class_mode = 'categorical')"
   ]
  },
  {
   "cell_type": "code",
   "execution_count": 14,
   "id": "thermal-entertainment",
   "metadata": {},
   "outputs": [
    {
     "name": "stderr",
     "output_type": "stream",
     "text": [
      "C:\\Users\\KARAN K S\\anaconda3\\lib\\site-packages\\tensorflow\\python\\keras\\engine\\training.py:1844: UserWarning: `Model.fit_generator` is deprecated and will be removed in a future version. Please use `Model.fit`, which supports generators.\n",
      "  warnings.warn('`Model.fit_generator` is deprecated and '\n"
     ]
    },
    {
     "name": "stdout",
     "output_type": "stream",
     "text": [
      "Epoch 1/25\n",
      "13/13 [==============================] - 21s 1s/step - loss: 2.0131 - accuracy: 0.5566 - val_loss: 0.8268 - val_accuracy: 0.3433\n",
      "Epoch 2/25\n",
      "13/13 [==============================] - 11s 809ms/step - loss: 0.6976 - accuracy: 0.5098 - val_loss: 0.7830 - val_accuracy: 0.3433\n",
      "Epoch 3/25\n",
      "13/13 [==============================] - 10s 780ms/step - loss: 0.6033 - accuracy: 0.6565 - val_loss: 1.0346 - val_accuracy: 0.3358\n",
      "Epoch 4/25\n",
      "13/13 [==============================] - 10s 738ms/step - loss: 0.5333 - accuracy: 0.7336 - val_loss: 1.1031 - val_accuracy: 0.3284\n",
      "Epoch 5/25\n",
      "13/13 [==============================] - 10s 736ms/step - loss: 0.5852 - accuracy: 0.6925 - val_loss: 0.7369 - val_accuracy: 0.4403\n",
      "Epoch 6/25\n",
      "13/13 [==============================] - 10s 735ms/step - loss: 0.5051 - accuracy: 0.7933 - val_loss: 1.0253 - val_accuracy: 0.3433\n",
      "Epoch 7/25\n",
      "13/13 [==============================] - 10s 739ms/step - loss: 0.4443 - accuracy: 0.7995 - val_loss: 1.2995 - val_accuracy: 0.3433\n",
      "Epoch 8/25\n",
      "13/13 [==============================] - 10s 739ms/step - loss: 0.4038 - accuracy: 0.7875 - val_loss: 1.2197 - val_accuracy: 0.3657\n",
      "Epoch 9/25\n",
      "13/13 [==============================] - 10s 724ms/step - loss: 0.4822 - accuracy: 0.7480 - val_loss: 0.8908 - val_accuracy: 0.3881\n",
      "Epoch 10/25\n",
      "13/13 [==============================] - 10s 733ms/step - loss: 0.4071 - accuracy: 0.7924 - val_loss: 1.1106 - val_accuracy: 0.3358\n",
      "Epoch 11/25\n",
      "13/13 [==============================] - 10s 735ms/step - loss: 0.3959 - accuracy: 0.7918 - val_loss: 0.9555 - val_accuracy: 0.3731\n",
      "Epoch 12/25\n",
      "13/13 [==============================] - 10s 744ms/step - loss: 0.3612 - accuracy: 0.8427 - val_loss: 1.0819 - val_accuracy: 0.4403\n",
      "Epoch 13/25\n",
      "13/13 [==============================] - 10s 741ms/step - loss: 0.3451 - accuracy: 0.8533 - val_loss: 1.2155 - val_accuracy: 0.4328\n",
      "Epoch 14/25\n",
      "13/13 [==============================] - 10s 728ms/step - loss: 0.3519 - accuracy: 0.8310 - val_loss: 0.6552 - val_accuracy: 0.5970\n",
      "Epoch 15/25\n",
      "13/13 [==============================] - 10s 738ms/step - loss: 0.3145 - accuracy: 0.8452 - val_loss: 0.5641 - val_accuracy: 0.6493\n",
      "Epoch 16/25\n",
      "13/13 [==============================] - 10s 740ms/step - loss: 0.2847 - accuracy: 0.8829 - val_loss: 1.5624 - val_accuracy: 0.3731\n",
      "Epoch 17/25\n",
      "13/13 [==============================] - 10s 735ms/step - loss: 0.4625 - accuracy: 0.8032 - val_loss: 0.5318 - val_accuracy: 0.7164\n",
      "Epoch 18/25\n",
      "13/13 [==============================] - 10s 734ms/step - loss: 0.3028 - accuracy: 0.8943 - val_loss: 0.8232 - val_accuracy: 0.5746\n",
      "Epoch 19/25\n",
      "13/13 [==============================] - 10s 736ms/step - loss: 0.2102 - accuracy: 0.9081 - val_loss: 0.5799 - val_accuracy: 0.7015\n",
      "Epoch 20/25\n",
      "13/13 [==============================] - 10s 757ms/step - loss: 0.1919 - accuracy: 0.9308 - val_loss: 1.4760 - val_accuracy: 0.4552\n",
      "Epoch 21/25\n",
      "13/13 [==============================] - 10s 744ms/step - loss: 0.3210 - accuracy: 0.8859 - val_loss: 0.4683 - val_accuracy: 0.7612\n",
      "Epoch 22/25\n",
      "13/13 [==============================] - 10s 720ms/step - loss: 0.1919 - accuracy: 0.9250 - val_loss: 0.3288 - val_accuracy: 0.8134\n",
      "Epoch 23/25\n",
      "13/13 [==============================] - 10s 735ms/step - loss: 0.1194 - accuracy: 0.9628 - val_loss: 0.7401 - val_accuracy: 0.6866\n",
      "Epoch 24/25\n",
      "13/13 [==============================] - 10s 736ms/step - loss: 0.1801 - accuracy: 0.9369 - val_loss: 0.3035 - val_accuracy: 0.8582\n",
      "Epoch 25/25\n",
      "13/13 [==============================] - 10s 755ms/step - loss: 0.1086 - accuracy: 0.9609 - val_loss: 0.2956 - val_accuracy: 0.8582\n"
     ]
    }
   ],
   "source": [
    "r = model.fit_generator(training_set,validation_data=test_set,\n",
    "                        epochs=25,steps_per_epoch=len(training_set),validation_steps=len(test_set))"
   ]
  },
  {
   "cell_type": "code",
   "execution_count": 15,
   "id": "mighty-metallic",
   "metadata": {},
   "outputs": [
    {
     "data": {
      "image/png": "[encoded data removed]",
      "text/plain": [
       "<Figure size 432x288 with 1 Axes>"
      ]
     },
     "metadata": {
      "needs_background": "light"
     },
     "output_type": "display_data"
    },
    {
     "data": {
      "image/png": "[encoded data removed]",
      "text/plain": [
       "<Figure size 432x288 with 1 Axes>"
      ]
     },
     "metadata": {
      "needs_background": "light"
     },
     "output_type": "display_data"
    },
    {
     "data": {
      "text/plain": [
       "<Figure size 432x288 with 0 Axes>"
      ]
     },
     "metadata": {},
     "output_type": "display_data"
    }
   ],
   "source": [
    "plt.plot(r.history['loss'], label='train loss')\n",
    "plt.plot(r.history['val_loss'], label='val loss')\n",
    "plt.legend()\n",
    "plt.show()\n",
    "plt.savefig('LossVal_loss')\n",
    "\n",
    "plt.plot(r.history['accuracy'], label='train acc')\n",
    "plt.plot(r.history['val_accuracy'], label='val acc')\n",
    "plt.legend()\n",
    "plt.show()\n",
    "plt.savefig('AccVal_acc')"
   ]
  },
  {
   "cell_type": "code",
   "execution_count": 16,
   "id": "stupid-picture",
   "metadata": {},
   "outputs": [],
   "source": [
    "from tensorflow.keras.models import load_model\n",
    "model.save('model.h5')"
   ]
  },
  {
   "cell_type": "code",
   "execution_count": 17,
   "id": "complicated-airline",
   "metadata": {},
   "outputs": [
    {
     "data": {
      "text/plain": [
       "array([[3.5293318e-02, 9.6470672e-01],\n",
       "       [9.6475714e-01, 3.5242833e-02],\n",
       "       [7.2401905e-01, 2.7598095e-01],\n",
       "       [3.3120814e-01, 6.6879183e-01],\n",
       "       [5.0805813e-01, 4.9194184e-01],\n",
       "       [1.2797262e-01, 8.7202740e-01],\n",
       "       [6.8730742e-02, 9.3126923e-01],\n",
       "       [9.9995244e-01, 4.7542482e-05],\n",
       "       [5.5696428e-02, 9.4430351e-01],\n",
       "       [1.5237410e-01, 8.4762591e-01],\n",
       "       [1.8022819e-01, 8.1977183e-01],\n",
       "       [9.9969220e-01, 3.0786957e-04],\n",
       "       [9.8759896e-01, 1.2401112e-02],\n",
       "       [7.7511445e-02, 9.2248851e-01],\n",
       "       [5.2349336e-02, 9.4765061e-01],\n",
       "       [7.6064801e-01, 2.3935197e-01],\n",
       "       [9.1268355e-01, 8.7316424e-02],\n",
       "       [5.2611809e-02, 9.4738817e-01],\n",
       "       [1.8489924e-01, 8.1510079e-01],\n",
       "       [2.6942489e-01, 7.3057508e-01],\n",
       "       [9.7793168e-01, 2.2068271e-02],\n",
       "       [5.6175269e-02, 9.4382465e-01],\n",
       "       [1.3563713e-01, 8.6436290e-01],\n",
       "       [2.9141130e-02, 9.7085887e-01],\n",
       "       [1.2078383e-01, 8.7921619e-01],\n",
       "       [9.9993205e-01, 6.7958186e-05],\n",
       "       [9.1146618e-01, 8.8533826e-02],\n",
       "       [6.7515835e-02, 9.3248415e-01],\n",
       "       [8.7965375e-01, 1.2034626e-01],\n",
       "       [2.1766537e-01, 7.8233463e-01],\n",
       "       [9.8582667e-01, 1.4173373e-02],\n",
       "       [3.9895386e-01, 6.0104609e-01],\n",
       "       [9.9032682e-01, 9.6731661e-03],\n",
       "       [6.4126396e-01, 3.5873604e-01],\n",
       "       [9.9571061e-01, 4.2893854e-03],\n",
       "       [3.2450172e-01, 6.7549831e-01],\n",
       "       [9.9925095e-01, 7.4902229e-04],\n",
       "       [9.9995089e-01, 4.9096074e-05],\n",
       "       [6.1278147e-01, 3.8721851e-01],\n",
       "       [9.9810022e-01, 1.8997651e-03],\n",
       "       [5.5065960e-01, 4.4934040e-01],\n",
       "       [2.4802160e-01, 7.5197840e-01],\n",
       "       [9.7388804e-02, 9.0261114e-01],\n",
       "       [9.8851717e-01, 1.1482845e-02],\n",
       "       [5.8249529e-02, 9.4175041e-01],\n",
       "       [1.2055036e-01, 8.7944967e-01],\n",
       "       [9.3839705e-01, 6.1602972e-02],\n",
       "       [1.1016952e-01, 8.8983047e-01],\n",
       "       [9.9933463e-01, 6.6539692e-04],\n",
       "       [1.2220607e-01, 8.7779397e-01],\n",
       "       [9.9997890e-01, 2.1137888e-05],\n",
       "       [9.9964678e-01, 3.5318377e-04],\n",
       "       [9.2420727e-01, 7.5792722e-02],\n",
       "       [9.1098562e-02, 9.0890145e-01],\n",
       "       [9.9744320e-01, 2.5567668e-03],\n",
       "       [3.7855580e-02, 9.6214437e-01],\n",
       "       [8.9984125e-01, 1.0015874e-01],\n",
       "       [8.7537020e-01, 1.2462983e-01],\n",
       "       [4.3045118e-01, 5.6954885e-01],\n",
       "       [9.9926418e-01, 7.3578558e-04],\n",
       "       [9.9818474e-01, 1.8152836e-03],\n",
       "       [4.5245522e-01, 5.4754484e-01],\n",
       "       [9.6223360e-01, 3.7766464e-02],\n",
       "       [5.7764745e-01, 4.2235258e-01],\n",
       "       [3.4401000e-01, 6.5599000e-01],\n",
       "       [8.5842639e-01, 1.4157356e-01],\n",
       "       [2.6012078e-01, 7.3987925e-01],\n",
       "       [2.2108363e-01, 7.7891636e-01],\n",
       "       [8.8802058e-01, 1.1197946e-01],\n",
       "       [2.9176556e-02, 9.7082347e-01],\n",
       "       [2.1896893e-01, 7.8103107e-01],\n",
       "       [8.5832514e-02, 9.1416746e-01],\n",
       "       [4.6028930e-01, 5.3971070e-01],\n",
       "       [8.5610646e-01, 1.4389351e-01],\n",
       "       [9.2506289e-01, 7.4937165e-02],\n",
       "       [5.5647689e-01, 4.4352305e-01],\n",
       "       [8.9676684e-01, 1.0323317e-01],\n",
       "       [8.4593570e-01, 1.5406433e-01],\n",
       "       [7.1501791e-01, 2.8498209e-01],\n",
       "       [8.4625953e-01, 1.5374041e-01],\n",
       "       [9.8471153e-01, 1.5288432e-02],\n",
       "       [6.0779697e-01, 3.9220306e-01],\n",
       "       [9.6879095e-01, 3.1208972e-02],\n",
       "       [6.0822565e-02, 9.3917745e-01],\n",
       "       [3.1688716e-02, 9.6831125e-01],\n",
       "       [4.1539073e-01, 5.8460933e-01],\n",
       "       [1.6210082e-01, 8.3789921e-01],\n",
       "       [9.8582143e-01, 1.4178529e-02],\n",
       "       [3.0707961e-01, 6.9292039e-01],\n",
       "       [9.9999893e-01, 1.0727091e-06],\n",
       "       [9.9997711e-01, 2.2861372e-05],\n",
       "       [1.4739233e-01, 8.5260767e-01],\n",
       "       [9.1658384e-01, 8.3416194e-02],\n",
       "       [2.4995753e-01, 7.5004244e-01],\n",
       "       [2.1327017e-01, 7.8672987e-01],\n",
       "       [3.3127151e-02, 9.6687281e-01],\n",
       "       [9.9459273e-01, 5.4072230e-03],\n",
       "       [9.7772878e-01, 2.2271218e-02],\n",
       "       [8.0997896e-01, 1.9002102e-01],\n",
       "       [9.9768889e-01, 2.3111647e-03],\n",
       "       [9.4587564e-01, 5.4124322e-02],\n",
       "       [6.4702183e-02, 9.3529785e-01],\n",
       "       [4.9230793e-01, 5.0769210e-01],\n",
       "       [9.9648488e-01, 3.5151395e-03],\n",
       "       [9.9071664e-01, 9.2833592e-03],\n",
       "       [6.6070324e-01, 3.3929673e-01],\n",
       "       [9.8136538e-01, 1.8634690e-02],\n",
       "       [1.9548996e-01, 8.0451000e-01],\n",
       "       [9.9765044e-01, 2.3495741e-03],\n",
       "       [9.9902046e-01, 9.7958127e-04],\n",
       "       [2.8981453e-01, 7.1018541e-01],\n",
       "       [9.9999928e-01, 6.6085192e-07],\n",
       "       [8.0366530e-02, 9.1963351e-01],\n",
       "       [3.0318433e-02, 9.6968162e-01],\n",
       "       [7.7956796e-02, 9.2204320e-01],\n",
       "       [2.8764650e-02, 9.7123533e-01],\n",
       "       [4.8516978e-02, 9.5148301e-01],\n",
       "       [9.9967504e-01, 3.2503463e-04],\n",
       "       [9.6534938e-01, 3.4650687e-02],\n",
       "       [5.2925818e-02, 9.4707417e-01],\n",
       "       [9.0631151e-01, 9.3688488e-02],\n",
       "       [9.9517173e-01, 4.8282389e-03],\n",
       "       [3.9327681e-02, 9.6067232e-01],\n",
       "       [6.2719107e-02, 9.3728089e-01],\n",
       "       [9.8727566e-01, 1.2724356e-02],\n",
       "       [9.5236123e-01, 4.7638759e-02],\n",
       "       [2.9859945e-02, 9.7014004e-01],\n",
       "       [9.6421134e-01, 3.5788581e-02],\n",
       "       [9.9071407e-01, 9.2858672e-03],\n",
       "       [1.2502100e-01, 8.7497908e-01],\n",
       "       [9.9981040e-01, 1.8967330e-04],\n",
       "       [6.0609378e-02, 9.3939060e-01],\n",
       "       [1.2956704e-01, 8.7043297e-01],\n",
       "       [9.8360300e-01, 1.6396971e-02]], dtype=float32)"
      ]
     },
     "execution_count": 17,
     "metadata": {},
     "output_type": "execute_result"
    }
   ],
   "source": [
    "y_pred = model.predict(test_set)\n",
    "y_pred"
   ]
  },
  {
   "cell_type": "code",
   "execution_count": 18,
   "id": "demonstrated-pocket",
   "metadata": {},
   "outputs": [],
   "source": [
    "y_pred = np.argmax(y_pred, axis=1)"
   ]
  },
  {
   "cell_type": "code",
   "execution_count": 19,
   "id": "desperate-variation",
   "metadata": {},
   "outputs": [
    {
     "data": {
      "text/plain": [
       "array([1, 0, 0, 1, 0, 1, 1, 0, 1, 1, 1, 0, 0, 1, 1, 0, 0, 1, 1, 1, 0, 1,\n",
       "       1, 1, 1, 0, 0, 1, 0, 1, 0, 1, 0, 0, 0, 1, 0, 0, 0, 0, 0, 1, 1, 0,\n",
       "       1, 1, 0, 1, 0, 1, 0, 0, 0, 1, 0, 1, 0, 0, 1, 0, 0, 1, 0, 0, 1, 0,\n",
       "       1, 1, 0, 1, 1, 1, 1, 0, 0, 0, 0, 0, 0, 0, 0, 0, 0, 1, 1, 1, 1, 0,\n",
       "       1, 0, 0, 1, 0, 1, 1, 1, 0, 0, 0, 0, 0, 1, 1, 0, 0, 0, 0, 1, 0, 0,\n",
       "       1, 0, 1, 1, 1, 1, 1, 0, 0, 1, 0, 0, 1, 1, 0, 0, 1, 0, 0, 1, 0, 1,\n",
       "       1, 0], dtype=int64)"
      ]
     },
     "execution_count": 19,
     "metadata": {},
     "output_type": "execute_result"
    }
   ],
   "source": [
    "y_pred"
   ]
  },
  {
   "cell_type": "code",
   "execution_count": 20,
   "id": "romantic-cleanup",
   "metadata": {},
   "outputs": [],
   "source": [
    "model=load_model('model.h5')"
   ]
  },
  {
   "cell_type": "code",
   "execution_count": 21,
   "id": "fourth-folks",
   "metadata": {},
   "outputs": [],
   "source": [
    "img=image.load_img('C:/Users/KARAN K S/Downloads/Dataset/Test/Parasite/C39P4thinF_original_IMG_20150622_105554_cell_10.png',\n",
    "                   target_size=(224,224))"
   ]
  },
  {
   "cell_type": "code",
   "execution_count": 22,
   "id": "secondary-priority",
   "metadata": {},
   "outputs": [
    {
     "data": {
      "text/plain": [
       "array([[[0., 0., 0.],\n",
       "        [0., 0., 0.],\n",
       "        [0., 0., 0.],\n",
       "        ...,\n",
       "        [0., 0., 0.],\n",
       "        [0., 0., 0.],\n",
       "        [0., 0., 0.]],\n",
       "\n",
       "       [[0., 0., 0.],\n",
       "        [0., 0., 0.],\n",
       "        [0., 0., 0.],\n",
       "        ...,\n",
       "        [0., 0., 0.],\n",
       "        [0., 0., 0.],\n",
       "        [0., 0., 0.]],\n",
       "\n",
       "       [[0., 0., 0.],\n",
       "        [0., 0., 0.],\n",
       "        [0., 0., 0.],\n",
       "        ...,\n",
       "        [0., 0., 0.],\n",
       "        [0., 0., 0.],\n",
       "        [0., 0., 0.]],\n",
       "\n",
       "       ...,\n",
       "\n",
       "       [[0., 0., 0.],\n",
       "        [0., 0., 0.],\n",
       "        [0., 0., 0.],\n",
       "        ...,\n",
       "        [0., 0., 0.],\n",
       "        [0., 0., 0.],\n",
       "        [0., 0., 0.]],\n",
       "\n",
       "       [[0., 0., 0.],\n",
       "        [0., 0., 0.],\n",
       "        [0., 0., 0.],\n",
       "        ...,\n",
       "        [0., 0., 0.],\n",
       "        [0., 0., 0.],\n",
       "        [0., 0., 0.]],\n",
       "\n",
       "       [[0., 0., 0.],\n",
       "        [0., 0., 0.],\n",
       "        [0., 0., 0.],\n",
       "        ...,\n",
       "        [0., 0., 0.],\n",
       "        [0., 0., 0.],\n",
       "        [0., 0., 0.]]], dtype=float32)"
      ]
     },
     "execution_count": 22,
     "metadata": {},
     "output_type": "execute_result"
    }
   ],
   "source": [
    "xz=image.img_to_array(img)\n",
    "xz"
   ]
  },
  {
   "cell_type": "code",
   "execution_count": 23,
   "id": "upper-directory",
   "metadata": {},
   "outputs": [
    {
     "data": {
      "text/plain": [
       "(224, 224, 3)"
      ]
     },
     "execution_count": 23,
     "metadata": {},
     "output_type": "execute_result"
    }
   ],
   "source": [
    "xz.shape"
   ]
  },
  {
   "cell_type": "code",
   "execution_count": 24,
   "id": "subjective-efficiency",
   "metadata": {},
   "outputs": [],
   "source": [
    "xz=xz/255"
   ]
  },
  {
   "cell_type": "code",
   "execution_count": 25,
   "id": "liable-basement",
   "metadata": {},
   "outputs": [
    {
     "data": {
      "text/plain": [
       "(1, 224, 224, 3)"
      ]
     },
     "execution_count": 25,
     "metadata": {},
     "output_type": "execute_result"
    }
   ],
   "source": [
    "xz=np.expand_dims(xz,axis=0)\n",
    "img_data=preprocess_input(xz)\n",
    "img_data.shape"
   ]
  },
  {
   "cell_type": "code",
   "execution_count": 26,
   "id": "italian-myrtle",
   "metadata": {},
   "outputs": [
    {
     "data": {
      "text/plain": [
       "array([[0., 1.]], dtype=float32)"
      ]
     },
     "execution_count": 26,
     "metadata": {},
     "output_type": "execute_result"
    }
   ],
   "source": [
    "model.predict(img_data)"
   ]
  },
  {
   "cell_type": "code",
   "execution_count": 27,
   "id": "resident-benchmark",
   "metadata": {},
   "outputs": [],
   "source": [
    "a=np.argmax(model.predict(img_data), axis=1)"
   ]
  },
  {
   "cell_type": "code",
   "execution_count": 31,
   "id": "excited-ticket",
   "metadata": {},
   "outputs": [
    {
     "name": "stdout",
     "output_type": "stream",
     "text": [
      "Infected\n"
     ]
    }
   ],
   "source": [
    "if(a==0):\n",
    "    print(\"Uninfected\")\n",
    "else:\n",
    "    print(\"Infected\")"
   ]
  },
  {
   "cell_type": "code",
   "execution_count": null,
   "id": "operating-occasions",
   "metadata": {},
   "outputs": [],
   "source": []
  },
  {
   "cell_type": "code",
   "execution_count": null,
   "id": "animated-color",
   "metadata": {},
   "outputs": [],
   "source": []
  }
 ],
 "metadata": {
  "kernelspec": {
   "display_name": "Python 3",
   "language": "python",
   "name": "python3"
  },
  "language_info": {
   "codemirror_mode": {
    "name": "ipython",
    "version": 3
   },
   "file_extension": ".py",
   "mimetype": "text/x-python",
   "name": "python",
   "nbconvert_exporter": "python",
   "pygments_lexer": "ipython3",
   "version": "3.8.8"
  }
 },
 "nbformat": 4,
 "nbformat_minor": 5
}
